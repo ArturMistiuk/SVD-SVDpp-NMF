{
 "cells": [
  {
   "cell_type": "code",
   "execution_count": 1,
   "id": "932fc8fb-7aa2-4264-ae1b-3ec1d572f861",
   "metadata": {},
   "outputs": [],
   "source": [
    "import pandas as pd\n",
    "import os\n",
    "\n",
    "from surprise import Reader, Dataset\n",
    "from surprise import SVD, SVDpp, NMF\n",
    "from surprise.model_selection import cross_validate, GridSearchCV, train_test_split"
   ]
  },
  {
   "cell_type": "code",
   "execution_count": 2,
   "id": "62e3f361-7892-42a3-b35e-d5e1ce8649e6",
   "metadata": {},
   "outputs": [],
   "source": [
    "data_folder = 'ml-latest-small'\n",
    "file_format = 'csv'"
   ]
  },
  {
   "cell_type": "code",
   "execution_count": 3,
   "id": "3bde5608-e272-41f5-9b50-6c66dd02a370",
   "metadata": {},
   "outputs": [],
   "source": [
    "paths_to_data_files = [os.path.join(data_folder, file) for file in os.listdir(data_folder) if file.endswith(file_format)]"
   ]
  },
  {
   "cell_type": "code",
   "execution_count": 4,
   "id": "1b0caacb-3c0c-4440-9db5-23ce25e6526a",
   "metadata": {},
   "outputs": [
    {
     "data": {
      "text/plain": [
       "['ml-latest-small\\\\links.csv',\n",
       " 'ml-latest-small\\\\movies.csv',\n",
       " 'ml-latest-small\\\\ratings.csv',\n",
       " 'ml-latest-small\\\\tags.csv']"
      ]
     },
     "execution_count": 4,
     "metadata": {},
     "output_type": "execute_result"
    }
   ],
   "source": [
    "paths_to_data_files"
   ]
  },
  {
   "cell_type": "code",
   "execution_count": 5,
   "id": "1edcd53c-e86a-424a-8c0d-c6836f6e6904",
   "metadata": {},
   "outputs": [],
   "source": [
    "for i, csv_file in enumerate(paths_to_data_files):\n",
    "    if i == 0:\n",
    "        links_df = pd.read_csv(csv_file)\n",
    "    elif i == 1:\n",
    "        movies_df = pd.read_csv(csv_file)\n",
    "    if i == 2:\n",
    "        ratings_df = pd.read_csv(csv_file)\n",
    "    if i == 3:\n",
    "        tags_df = pd.read_csv(csv_file)"
   ]
  },
  {
   "cell_type": "code",
   "execution_count": 6,
   "id": "5a0c5248-733c-4830-b31a-398077df18b6",
   "metadata": {
    "scrolled": true
   },
   "outputs": [
    {
     "data": {
      "text/html": [
       "<div>\n",
       "<style scoped>\n",
       "    .dataframe tbody tr th:only-of-type {\n",
       "        vertical-align: middle;\n",
       "    }\n",
       "\n",
       "    .dataframe tbody tr th {\n",
       "        vertical-align: top;\n",
       "    }\n",
       "\n",
       "    .dataframe thead th {\n",
       "        text-align: right;\n",
       "    }\n",
       "</style>\n",
       "<table border=\"1\" class=\"dataframe\">\n",
       "  <thead>\n",
       "    <tr style=\"text-align: right;\">\n",
       "      <th></th>\n",
       "      <th>movieId</th>\n",
       "      <th>imdbId</th>\n",
       "      <th>tmdbId</th>\n",
       "    </tr>\n",
       "  </thead>\n",
       "  <tbody>\n",
       "    <tr>\n",
       "      <th>0</th>\n",
       "      <td>1</td>\n",
       "      <td>114709</td>\n",
       "      <td>862.0</td>\n",
       "    </tr>\n",
       "    <tr>\n",
       "      <th>1</th>\n",
       "      <td>2</td>\n",
       "      <td>113497</td>\n",
       "      <td>8844.0</td>\n",
       "    </tr>\n",
       "    <tr>\n",
       "      <th>2</th>\n",
       "      <td>3</td>\n",
       "      <td>113228</td>\n",
       "      <td>15602.0</td>\n",
       "    </tr>\n",
       "    <tr>\n",
       "      <th>3</th>\n",
       "      <td>4</td>\n",
       "      <td>114885</td>\n",
       "      <td>31357.0</td>\n",
       "    </tr>\n",
       "    <tr>\n",
       "      <th>4</th>\n",
       "      <td>5</td>\n",
       "      <td>113041</td>\n",
       "      <td>11862.0</td>\n",
       "    </tr>\n",
       "  </tbody>\n",
       "</table>\n",
       "</div>"
      ],
      "text/plain": [
       "   movieId  imdbId   tmdbId\n",
       "0        1  114709    862.0\n",
       "1        2  113497   8844.0\n",
       "2        3  113228  15602.0\n",
       "3        4  114885  31357.0\n",
       "4        5  113041  11862.0"
      ]
     },
     "execution_count": 6,
     "metadata": {},
     "output_type": "execute_result"
    }
   ],
   "source": [
    "links_df.head()"
   ]
  },
  {
   "cell_type": "code",
   "execution_count": 7,
   "id": "298aa37a-0d64-4c18-ab26-5ed720626a0c",
   "metadata": {},
   "outputs": [
    {
     "data": {
      "text/html": [
       "<div>\n",
       "<style scoped>\n",
       "    .dataframe tbody tr th:only-of-type {\n",
       "        vertical-align: middle;\n",
       "    }\n",
       "\n",
       "    .dataframe tbody tr th {\n",
       "        vertical-align: top;\n",
       "    }\n",
       "\n",
       "    .dataframe thead th {\n",
       "        text-align: right;\n",
       "    }\n",
       "</style>\n",
       "<table border=\"1\" class=\"dataframe\">\n",
       "  <thead>\n",
       "    <tr style=\"text-align: right;\">\n",
       "      <th></th>\n",
       "      <th>movieId</th>\n",
       "      <th>title</th>\n",
       "      <th>genres</th>\n",
       "    </tr>\n",
       "  </thead>\n",
       "  <tbody>\n",
       "    <tr>\n",
       "      <th>0</th>\n",
       "      <td>1</td>\n",
       "      <td>Toy Story (1995)</td>\n",
       "      <td>Adventure|Animation|Children|Comedy|Fantasy</td>\n",
       "    </tr>\n",
       "    <tr>\n",
       "      <th>1</th>\n",
       "      <td>2</td>\n",
       "      <td>Jumanji (1995)</td>\n",
       "      <td>Adventure|Children|Fantasy</td>\n",
       "    </tr>\n",
       "    <tr>\n",
       "      <th>2</th>\n",
       "      <td>3</td>\n",
       "      <td>Grumpier Old Men (1995)</td>\n",
       "      <td>Comedy|Romance</td>\n",
       "    </tr>\n",
       "    <tr>\n",
       "      <th>3</th>\n",
       "      <td>4</td>\n",
       "      <td>Waiting to Exhale (1995)</td>\n",
       "      <td>Comedy|Drama|Romance</td>\n",
       "    </tr>\n",
       "    <tr>\n",
       "      <th>4</th>\n",
       "      <td>5</td>\n",
       "      <td>Father of the Bride Part II (1995)</td>\n",
       "      <td>Comedy</td>\n",
       "    </tr>\n",
       "  </tbody>\n",
       "</table>\n",
       "</div>"
      ],
      "text/plain": [
       "   movieId                               title  \\\n",
       "0        1                    Toy Story (1995)   \n",
       "1        2                      Jumanji (1995)   \n",
       "2        3             Grumpier Old Men (1995)   \n",
       "3        4            Waiting to Exhale (1995)   \n",
       "4        5  Father of the Bride Part II (1995)   \n",
       "\n",
       "                                        genres  \n",
       "0  Adventure|Animation|Children|Comedy|Fantasy  \n",
       "1                   Adventure|Children|Fantasy  \n",
       "2                               Comedy|Romance  \n",
       "3                         Comedy|Drama|Romance  \n",
       "4                                       Comedy  "
      ]
     },
     "execution_count": 7,
     "metadata": {},
     "output_type": "execute_result"
    }
   ],
   "source": [
    "movies_df.head()"
   ]
  },
  {
   "cell_type": "code",
   "execution_count": 8,
   "id": "d8cb4b3d-5c90-4c7e-859b-d314721cf95f",
   "metadata": {},
   "outputs": [
    {
     "data": {
      "text/html": [
       "<div>\n",
       "<style scoped>\n",
       "    .dataframe tbody tr th:only-of-type {\n",
       "        vertical-align: middle;\n",
       "    }\n",
       "\n",
       "    .dataframe tbody tr th {\n",
       "        vertical-align: top;\n",
       "    }\n",
       "\n",
       "    .dataframe thead th {\n",
       "        text-align: right;\n",
       "    }\n",
       "</style>\n",
       "<table border=\"1\" class=\"dataframe\">\n",
       "  <thead>\n",
       "    <tr style=\"text-align: right;\">\n",
       "      <th></th>\n",
       "      <th>userId</th>\n",
       "      <th>movieId</th>\n",
       "      <th>rating</th>\n",
       "      <th>timestamp</th>\n",
       "    </tr>\n",
       "  </thead>\n",
       "  <tbody>\n",
       "    <tr>\n",
       "      <th>0</th>\n",
       "      <td>1</td>\n",
       "      <td>1</td>\n",
       "      <td>4.0</td>\n",
       "      <td>964982703</td>\n",
       "    </tr>\n",
       "    <tr>\n",
       "      <th>1</th>\n",
       "      <td>1</td>\n",
       "      <td>3</td>\n",
       "      <td>4.0</td>\n",
       "      <td>964981247</td>\n",
       "    </tr>\n",
       "    <tr>\n",
       "      <th>2</th>\n",
       "      <td>1</td>\n",
       "      <td>6</td>\n",
       "      <td>4.0</td>\n",
       "      <td>964982224</td>\n",
       "    </tr>\n",
       "    <tr>\n",
       "      <th>3</th>\n",
       "      <td>1</td>\n",
       "      <td>47</td>\n",
       "      <td>5.0</td>\n",
       "      <td>964983815</td>\n",
       "    </tr>\n",
       "    <tr>\n",
       "      <th>4</th>\n",
       "      <td>1</td>\n",
       "      <td>50</td>\n",
       "      <td>5.0</td>\n",
       "      <td>964982931</td>\n",
       "    </tr>\n",
       "  </tbody>\n",
       "</table>\n",
       "</div>"
      ],
      "text/plain": [
       "   userId  movieId  rating  timestamp\n",
       "0       1        1     4.0  964982703\n",
       "1       1        3     4.0  964981247\n",
       "2       1        6     4.0  964982224\n",
       "3       1       47     5.0  964983815\n",
       "4       1       50     5.0  964982931"
      ]
     },
     "execution_count": 8,
     "metadata": {},
     "output_type": "execute_result"
    }
   ],
   "source": [
    "ratings_df.head()"
   ]
  },
  {
   "cell_type": "code",
   "execution_count": 9,
   "id": "9bb5e45b-6e81-4465-9294-065309c6046c",
   "metadata": {},
   "outputs": [
    {
     "data": {
      "text/html": [
       "<div>\n",
       "<style scoped>\n",
       "    .dataframe tbody tr th:only-of-type {\n",
       "        vertical-align: middle;\n",
       "    }\n",
       "\n",
       "    .dataframe tbody tr th {\n",
       "        vertical-align: top;\n",
       "    }\n",
       "\n",
       "    .dataframe thead th {\n",
       "        text-align: right;\n",
       "    }\n",
       "</style>\n",
       "<table border=\"1\" class=\"dataframe\">\n",
       "  <thead>\n",
       "    <tr style=\"text-align: right;\">\n",
       "      <th></th>\n",
       "      <th>userId</th>\n",
       "      <th>movieId</th>\n",
       "      <th>tag</th>\n",
       "      <th>timestamp</th>\n",
       "    </tr>\n",
       "  </thead>\n",
       "  <tbody>\n",
       "    <tr>\n",
       "      <th>0</th>\n",
       "      <td>2</td>\n",
       "      <td>60756</td>\n",
       "      <td>funny</td>\n",
       "      <td>1445714994</td>\n",
       "    </tr>\n",
       "    <tr>\n",
       "      <th>1</th>\n",
       "      <td>2</td>\n",
       "      <td>60756</td>\n",
       "      <td>Highly quotable</td>\n",
       "      <td>1445714996</td>\n",
       "    </tr>\n",
       "    <tr>\n",
       "      <th>2</th>\n",
       "      <td>2</td>\n",
       "      <td>60756</td>\n",
       "      <td>will ferrell</td>\n",
       "      <td>1445714992</td>\n",
       "    </tr>\n",
       "    <tr>\n",
       "      <th>3</th>\n",
       "      <td>2</td>\n",
       "      <td>89774</td>\n",
       "      <td>Boxing story</td>\n",
       "      <td>1445715207</td>\n",
       "    </tr>\n",
       "    <tr>\n",
       "      <th>4</th>\n",
       "      <td>2</td>\n",
       "      <td>89774</td>\n",
       "      <td>MMA</td>\n",
       "      <td>1445715200</td>\n",
       "    </tr>\n",
       "  </tbody>\n",
       "</table>\n",
       "</div>"
      ],
      "text/plain": [
       "   userId  movieId              tag   timestamp\n",
       "0       2    60756            funny  1445714994\n",
       "1       2    60756  Highly quotable  1445714996\n",
       "2       2    60756     will ferrell  1445714992\n",
       "3       2    89774     Boxing story  1445715207\n",
       "4       2    89774              MMA  1445715200"
      ]
     },
     "execution_count": 9,
     "metadata": {},
     "output_type": "execute_result"
    }
   ],
   "source": [
    "tags_df.head()"
   ]
  },
  {
   "cell_type": "code",
   "execution_count": 10,
   "id": "f9e15f54-777a-49ec-8296-93cd02fba2d8",
   "metadata": {},
   "outputs": [],
   "source": [
    "min_rating = ratings_df['rating'].min()\n",
    "max_rating = ratings_df['rating'].max()\n",
    "reader = Reader(rating_scale=(min_rating, max_rating))"
   ]
  },
  {
   "cell_type": "code",
   "execution_count": 11,
   "id": "d13cac18-187c-4fa7-9591-7f6cc3d092cf",
   "metadata": {},
   "outputs": [],
   "source": [
    "data = Dataset.load_from_df(ratings_df[['userId', 'movieId', 'rating']], reader=reader)"
   ]
  },
  {
   "cell_type": "code",
   "execution_count": 12,
   "id": "cc9fc3f3-cdad-4543-b98f-b925ce6c2c5f",
   "metadata": {},
   "outputs": [],
   "source": [
    "grid_param = {'n_epochs': [5, 10, 20, 30],\n",
    "             'n_factors': [20, 50, 100]}\n",
    "grid_search = GridSearchCV(SVD, grid_param, measures=['rmse', 'mae'], cv=10)\n",
    "grid_search.fit(data)"
   ]
  },
  {
   "cell_type": "code",
   "execution_count": 13,
   "id": "1662eb79-40e3-4861-9208-cb4b5ca9ff8d",
   "metadata": {},
   "outputs": [
    {
     "name": "stdout",
     "output_type": "stream",
     "text": [
      "Best RMSE score: 0.8628783942193377\n",
      "Best MAE score: 0.6610466915687149\n",
      "Best parameters: {'rmse': {'n_epochs': 30, 'n_factors': 20}, 'mae': {'n_epochs': 30, 'n_factors': 20}}\n"
     ]
    }
   ],
   "source": [
    "print(\"Best RMSE score:\", grid_search.best_score['rmse'])\n",
    "print(\"Best MAE score:\", grid_search.best_score['mae'])\n",
    "print(\"Best parameters:\", grid_search.best_params)"
   ]
  },
  {
   "cell_type": "code",
   "execution_count": 14,
   "id": "edf69b8a-692a-414e-b092-bdf245be092a",
   "metadata": {},
   "outputs": [],
   "source": [
    "best_epochs = grid_search.best_params['rmse']['n_epochs']\n",
    "best_factors = grid_search.best_params['rmse']['n_factors']"
   ]
  },
  {
   "cell_type": "code",
   "execution_count": 15,
   "id": "96b2dba5-97de-46aa-9c7f-7fe27784172c",
   "metadata": {},
   "outputs": [
    {
     "name": "stdout",
     "output_type": "stream",
     "text": [
      "Evaluating RMSE, MAE of algorithm SVD on 10 split(s).\n",
      "\n",
      "                  Fold 1  Fold 2  Fold 3  Fold 4  Fold 5  Fold 6  Fold 7  Fold 8  Fold 9  Fold 10 Mean    Std     \n",
      "RMSE (testset)    0.8502  0.8524  0.8666  0.8586  0.8730  0.8649  0.8605  0.8664  0.8782  0.8681  0.8639  0.0082  \n",
      "MAE (testset)     0.6530  0.6570  0.6653  0.6607  0.6678  0.6587  0.6607  0.6665  0.6696  0.6613  0.6620  0.0049  \n",
      "Fit time          0.67    0.71    0.68    0.61    0.59    0.62    0.59    0.66    0.64    0.62    0.64    0.04    \n",
      "Test time         0.03    0.08    0.03    0.07    0.03    0.07    0.03    0.03    0.03    0.08    0.05    0.02    \n"
     ]
    }
   ],
   "source": [
    "svd_model = SVD(n_epochs=best_epochs, n_factors=best_factors)\n",
    "results_svd = cross_validate(svd_model, data, measures=['RMSE', 'MAE'], cv=10, verbose=True)"
   ]
  },
  {
   "cell_type": "code",
   "execution_count": 16,
   "id": "f490229c-680b-4624-aa77-44d2ec7661ab",
   "metadata": {},
   "outputs": [
    {
     "name": "stdout",
     "output_type": "stream",
     "text": [
      "Mean RMSE score: 0.8639040024801347\n",
      "Mean MAE score: 0.6620492626244177\n"
     ]
    }
   ],
   "source": [
    "m_rmse_svd = results_svd['test_rmse'].mean()\n",
    "m_mae_svd = results_svd['test_mae'].mean()\n",
    "\n",
    "print(\"Mean RMSE score:\", m_rmse_svd)\n",
    "print(\"Mean MAE score:\", m_mae_svd)"
   ]
  },
  {
   "cell_type": "code",
   "execution_count": 17,
   "id": "be080f63-bda3-42e9-b00c-203e58536545",
   "metadata": {},
   "outputs": [],
   "source": [
    "svdpp_model = SVDpp()"
   ]
  },
  {
   "cell_type": "code",
   "execution_count": 18,
   "id": "3122665f-b2e9-45fc-a954-f9d65acb3c51",
   "metadata": {},
   "outputs": [
    {
     "name": "stdout",
     "output_type": "stream",
     "text": [
      "Evaluating RMSE, MAE of algorithm SVDpp on 5 split(s).\n",
      "\n",
      "                  Fold 1  Fold 2  Fold 3  Fold 4  Fold 5  Mean    Std     \n",
      "RMSE (testset)    0.8567  0.8664  0.8635  0.8596  0.8644  0.8621  0.0035  \n",
      "MAE (testset)     0.6552  0.6659  0.6634  0.6601  0.6604  0.6610  0.0036  \n",
      "Fit time          39.00   37.61   36.58   37.03   36.58   37.36   0.90    \n",
      "Test time         6.64    6.65    5.85    5.80    5.80    6.15    0.41    \n"
     ]
    }
   ],
   "source": [
    "results_svdpp = cross_validate(svdpp_model, data, measures=['RMSE', 'MAE'], cv=5, verbose=True)"
   ]
  },
  {
   "cell_type": "code",
   "execution_count": 19,
   "id": "8583b7a1-b96c-42d8-9142-f7d19c06d4e1",
   "metadata": {},
   "outputs": [
    {
     "name": "stdout",
     "output_type": "stream",
     "text": [
      "Mean RMSE score: 0.8620958295638201\n",
      "Mean MAE score: 0.661006907980639\n"
     ]
    }
   ],
   "source": [
    "m_rmse_svdpp = results_svdpp['test_rmse'].mean()\n",
    "m_mae_svdpp = results_svdpp['test_mae'].mean()\n",
    "\n",
    "print(\"Mean RMSE score:\", m_rmse_svdpp)\n",
    "print(\"Mean MAE score:\", m_mae_svdpp)"
   ]
  },
  {
   "cell_type": "code",
   "execution_count": 20,
   "id": "457bd48e-9dba-4425-998e-b8ba7ab7f118",
   "metadata": {},
   "outputs": [],
   "source": [
    "nmf_model = NMF()"
   ]
  },
  {
   "cell_type": "code",
   "execution_count": 23,
   "id": "f64b8341-5aaf-4578-892d-3ef6786230c6",
   "metadata": {},
   "outputs": [
    {
     "name": "stdout",
     "output_type": "stream",
     "text": [
      "Evaluating RMSE, MAE of algorithm NMF on 5 split(s).\n",
      "\n",
      "                  Fold 1  Fold 2  Fold 3  Fold 4  Fold 5  Mean    Std     \n",
      "RMSE (testset)    0.9240  0.9143  0.9158  0.9267  0.9297  0.9221  0.0060  \n",
      "MAE (testset)     0.7061  0.7007  0.6999  0.7077  0.7140  0.7057  0.0051  \n",
      "Fit time          1.31    1.22    1.29    1.36    1.27    1.29    0.05    \n",
      "Test time         0.05    0.11    0.12    0.05    0.11    0.09    0.03    \n"
     ]
    }
   ],
   "source": [
    "results_nmf = cross_validate(nmf_model, data, measures=['RMSE', 'MAE'], cv=5, verbose=True)"
   ]
  },
  {
   "cell_type": "code",
   "execution_count": 22,
   "id": "730e6eb5-1ae0-4955-8ce1-1a56631fa2f5",
   "metadata": {},
   "outputs": [
    {
     "name": "stdout",
     "output_type": "stream",
     "text": [
      "Mean RMSE score: 0.9128912823660974\n",
      "Mean MAE score: 0.6988577623078528\n"
     ]
    }
   ],
   "source": [
    "m_rmse_nmf = results_nmf['test_rmse'].mean()\n",
    "m_mae_nmf = results_nmf['test_mae'].mean()\n",
    "\n",
    "print(\"Mean RMSE score:\", m_rmse_nmf)\n",
    "print(\"Mean MAE score:\", m_mae_nmf)"
   ]
  },
  {
   "cell_type": "markdown",
   "id": "55af4bf9-7355-43d2-9781-e66122a578ee",
   "metadata": {},
   "source": [
    "Найкращi результати показала модель SVDpp, найгiршi у моделi NMF, у той час як SVD трохи гiрше за SVDpp.\n",
    "\n",
    "SVD: \n",
    "Mean RMSE score: 0.8639040024801347\r\n",
    "Mean MAE score: 0.662049262624417\n",
    "\n",
    "SVDpp:\n",
    "Mean RMSE score: 0.8620958295638201\r\n",
    "Mean MAE score: 0.66100690798063\n",
    "\n",
    "NMF:\n",
    "Mean RMSE score: 0.9128912823660974\r\n",
    "Mean MAE score: 0.698857762307852897"
   ]
  },
  {
   "cell_type": "code",
   "execution_count": null,
   "id": "0b61792c-a275-4f36-ba86-e2752b069feb",
   "metadata": {},
   "outputs": [],
   "source": []
  }
 ],
 "metadata": {
  "kernelspec": {
   "display_name": "Python 3 (ipykernel)",
   "language": "python",
   "name": "python3"
  },
  "language_info": {
   "codemirror_mode": {
    "name": "ipython",
    "version": 3
   },
   "file_extension": ".py",
   "mimetype": "text/x-python",
   "name": "python",
   "nbconvert_exporter": "python",
   "pygments_lexer": "ipython3",
   "version": "3.11.0"
  }
 },
 "nbformat": 4,
 "nbformat_minor": 5
}
